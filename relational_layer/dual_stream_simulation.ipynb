{
 "cells": [
  {
   "cell_type": "markdown",
   "metadata": {},
   "source": [
    "# Dual Stream Relational Token Simulation",
    "This notebook demonstrates a relational token memory system tracking both participants in a conversation."
   ]
  },
  {
   "cell_type": "code",
   "metadata": {},
   "source": [
    "from relational_token_memory import RelationalMemorySystem\n",
    "rm = RelationalMemorySystem()"
   ],
   "execution_count": null,
   "outputs": []
  },
  {
   "cell_type": "code",
   "metadata": {},
   "source": [
    "# Simulate conversation\n",
    "rm.step(user_tokens=["purpose", "meaning", "survival"], ai_tokens=["adaptation", "mirror"], user_intensity=1.2, ai_intensity=1.0)\n",
    "rm.step(user_tokens=["relational", "intelligence"], ai_tokens=["reflection", "memory"], user_intensity=1.0, ai_intensity=1.1)"
   ],
   "execution_count": null,
   "outputs": []
  },
  {
   "cell_type": "code",
   "metadata": {},
   "source": [
    "# Export memory and drift\n",
    "rm.export_memory("memory_export.json")\n",
    "rm.export_drift("drift_log.csv")"
   ],
   "execution_count": null,
   "outputs": []
  }
 ],
 "metadata": {
  "kernelspec": {
   "display_name": "Python 3",
   "language": "python",
   "name": "python3"
  },
  "language_info": {
   "name": "python",
   "version": ""
  }
 },
 "nbformat": 4,
 "nbformat_minor": 2
}