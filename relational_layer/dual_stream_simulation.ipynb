{
 "cells": [
  {
   "cell_type": "markdown",
   "id": "f13a9701",
   "metadata": {},
   "source": [
    "# Dual Stream Simulation\n",
    "This notebook simulates relational token memory between user and AI input streams."
   ]
  },
  {
   "cell_type": "code",
   "execution_count": null,
   "id": "8da18826",
   "metadata": {},
   "outputs": [],
   "source": [
    "import json\n",
    "import time\n",
    "from collections import defaultdict\n",
    "from datetime import datetime\n",
    "import matplotlib.pyplot as plt\n",
    "\n",
    "# Simulated emotional weight function\n",
    "def compute_weight(token, index, emotional_boost=1.0):\n",
    "    base_weight = 1.0 / (index + 1)\n",
    "    return base_weight * emotional_boost\n",
    "\n",
    "# Initialize memory\n",
    "relational_memory = defaultdict(float)\n"
   ]
  },
  {
   "cell_type": "code",
   "execution_count": null,
   "id": "6610c5fb",
   "metadata": {},
   "outputs": [],
   "source": [
    "# Define input streams\n",
    "user_stream = [\n",
    "    \"Let's run all of today's content through the simulation.\",\n",
    "    \"Should we build a new repo or just add to the existing one?\",\n",
    "    \"I'm wondering what you think about capturing both sides of the conversation.\",\n",
    "    \"Feels like an evolution of what we started with.\"\n",
    "]\n",
    "\n",
    "ai_stream = [\n",
    "    \"Yes, we can simulate relational salience over time.\",\n",
    "    \"Let's extend the existing token memory layer with relational weighting.\",\n",
    "    \"Capturing both sides gives us insight into mirrored salience and drift.\",\n",
    "    \"Agreed. This belongs in the same repo with an upgraded README.\"\n",
    "]\n"
   ]
  },
  {
   "cell_type": "code",
   "execution_count": null,
   "id": "2c8caaa6",
   "metadata": {},
   "outputs": [],
   "source": [
    "# Tokenize and apply weighting\n",
    "def process_stream(stream, label, boost=1.0):\n",
    "    for i, sentence in enumerate(stream):\n",
    "        tokens = sentence.lower().split()\n",
    "        for j, token in enumerate(tokens):\n",
    "            weight = compute_weight(token, j, emotional_boost=boost)\n",
    "            key = f\"{label}:{token}\"\n",
    "            relational_memory[key] += weight\n",
    "\n",
    "process_stream(user_stream, \"USER\", boost=1.2)\n",
    "process_stream(ai_stream, \"AI\", boost=1.0)\n"
   ]
  },
  {
   "cell_type": "code",
   "execution_count": null,
   "id": "4d2c2cd3",
   "metadata": {},
   "outputs": [],
   "source": [
    "# Show top relational memory tokens\n",
    "top_tokens = sorted(relational_memory.items(), key=lambda x: -x[1])[:20]\n",
    "for token, weight in top_tokens:\n",
    "    print(f\"{token}: {weight:.3f}\")\n"
   ]
  },
  {
   "cell_type": "code",
   "execution_count": null,
   "id": "2fbc51d2",
   "metadata": {},
   "outputs": [],
   "source": [
    "# Plotting token weights\n",
    "labels, values = zip(*top_tokens)\n",
    "plt.figure(figsize=(10,5))\n",
    "plt.barh(labels, values)\n",
    "plt.gca().invert_yaxis()\n",
    "plt.title(\"Top Relational Tokens by Weight\")\n",
    "plt.xlabel(\"Weight\")\n",
    "plt.show()\n"
   ]
  },
  {
   "cell_type": "code",
   "execution_count": null,
   "id": "73f95d1c",
   "metadata": {},
   "outputs": [],
   "source": [
    "# Save weights for future use\n",
    "with open(\"relational_weights.json\", \"w\") as f:\n",
    "    json.dump(dict(relational_memory), f, indent=2)\n",
    "print(\"Saved to relational_weights.json\")\n"
   ]
  }
 ],
 "metadata": {},
 "nbformat": 4,
 "nbformat_minor": 5
}